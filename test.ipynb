{
  "cells": [
    {
      "cell_type": "markdown",
      "metadata": {
        "colab_type": "text",
        "id": "view-in-github"
      },
      "source": [
        "<a href=\"https://colab.research.google.com/github/sugarghost/ktcloud_genai/blob/main/Untitled2.ipynb\" target=\"_parent\"><img src=\"https://colab.research.google.com/assets/colab-badge.svg\" alt=\"Open In Colab\"/></a>"
      ]
    },
    {
      "cell_type": "code",
      "execution_count": null,
      "metadata": {
        "id": "Kz_eyej5wm0N"
      },
      "outputs": [],
      "source": [
        "# 숫자, 문자열, 불(bool)과 f-string\n",
        "age = 29\n",
        "name = \"Alice\"\n",
        "is_student = True\n",
        "\n",
        "print(type(age), type(name), type(is_student))   # 자료형 확인\n",
        "print(f\"{name} is {age} years old. Student? {is_student}\")\n"
      ]
    },
    {
      "cell_type": "code",
      "execution_count": null,
      "metadata": {},
      "outputs": [],
      "source": [
        "a, b = 7, 3\n",
        "print(a + b, a - b, a * b, a / b, a // b, a % b)    # + - * / 몫 나머지\n",
        "print(a ** b)                                       # 거듭제곱\n",
        "print(a > b, a == b, (a > 5) and (b < 5), not (a < b))\n"
      ]
    },
    {
      "cell_type": "code",
      "execution_count": null,
      "metadata": {},
      "outputs": [],
      "source": [
        "score = 83\n",
        "\n",
        "if score >= 90:\n",
        "    grade = \"A\"\n",
        "elif score >= 80:\n",
        "    grade = \"B\"\n",
        "elif score >= 70:\n",
        "    grade = \"C\"\n",
        "else:\n",
        "    grade = \"D or F\"\n",
        "\n",
        "print(\"Grade:\", grade)\n"
      ]
    },
    {
      "cell_type": "code",
      "execution_count": null,
      "metadata": {},
      "outputs": [],
      "source": [
        "# 1) 0~4까지 출력\n",
        "for i in range(5):\n",
        "    print(\"i:\", i)\n",
        "\n",
        "# 2) 목록 순회 + 인덱스 필요할 때 enumerate\n",
        "fruits = [\"apple\", \"banana\", \"cherry\"]\n",
        "for idx, item in enumerate(fruits, start=1):\n",
        "    print(f\"{idx}. {item}\")\n"
      ]
    },
    {
      "cell_type": "code",
      "execution_count": null,
      "metadata": {},
      "outputs": [],
      "source": [
        "# 1~10 중에서 홀수만 출력, 7에서 멈추기\n",
        "n = 0\n",
        "while n < 10:\n",
        "    n += 1\n",
        "    if n % 2 == 0:\n",
        "        continue       # 짝수 건너뛰기\n",
        "    print(n)\n",
        "    if n == 7:\n",
        "        break          # 7에서 종료\n"
      ]
    },
    {
      "cell_type": "code",
      "execution_count": null,
      "metadata": {},
      "outputs": [],
      "source": [
        "# list: 순서O, 변경O\n",
        "nums = [10, 20, 20, 30]\n",
        "nums.append(40)\n",
        "nums[1] = 99\n",
        "print(\"list:\", nums, \"len:\", len(nums), \"slice:\", nums[1:3])\n",
        "\n",
        "# tuple: 순서O, 변경X (패킹/언패킹)\n",
        "point = (3, 5)\n",
        "x, y = point\n",
        "print(\"tuple:\", point, \"x:\", x, \"y:\", y)\n",
        "\n",
        "# set: 중복X, 순서X (집합 연산)\n",
        "s = {1, 2, 2, 3}\n",
        "t = {3, 4}\n",
        "print(\"set:\", s, \"합집합:\", s | t, \"교집합:\", s & t, \"차집합:\", s - t)\n",
        "\n",
        "# dict: 키-값 쌍\n",
        "user = {\"name\": \"Alice\", \"age\": 29}\n",
        "user[\"job\"] = \"dev\"\n",
        "print(\"dict keys:\", list(user.keys()))\n",
        "print(\"dict values:\", list(user.values()))\n",
        "print(\"dict items:\", list(user.items()))\n"
      ]
    },
    {
      "cell_type": "code",
      "execution_count": null,
      "metadata": {},
      "outputs": [],
      "source": [
        "scores = [65, 72, 88, 90, 45]\n",
        "\n",
        "# 조건 필터 + 변환 (컴프리헨션)\n",
        "passed = [s for s in scores if s >= 70]\n",
        "curved = [min(s + 5, 100) for s in scores]\n",
        "\n",
        "# 정렬(원본 유지 X)\n",
        "scores.sort()          # 제자리 정렬\n",
        "print(\"정렬:\", scores)\n",
        "\n",
        "# 얕은 복사 vs 참조\n",
        "a = [1, 2, 3]\n",
        "b = a                  # 같은 리스트를 가리킴\n",
        "c = a[:]               # 새로운 리스트(복사)\n",
        "a.append(99)\n",
        "print(\"a:\", a, \"b:\", b, \"c:\", c)\n",
        "print(\"통과:\", passed, \"보정:\", curved)\n"
      ]
    },
    {
      "cell_type": "code",
      "execution_count": null,
      "metadata": {},
      "outputs": [],
      "source": [
        "text = \"  Hello, Python World!  \"\n",
        "print(text.strip())                 # 양쪽 공백 제거\n",
        "print(text.lower(), text.upper())   # 소/대문자\n",
        "print(text.replace(\"World\", \"You\"))\n",
        "\n",
        "words = [\"red\", \"green\", \"blue\"]\n",
        "print(\", \".join(words))             # 조인\n",
        "print(\"a,b,c\".split(\",\"))           # 스플릿\n",
        "\n",
        "name = \"Alice\"\n",
        "print(f\"Hi {name:>10}\")             # 오른쪽 정렬 폭 10\n",
        "print(\"Pi is about {:.3f}\".format(3.141592))\n"
      ]
    },
    {
      "cell_type": "code",
      "execution_count": null,
      "metadata": {},
      "outputs": [],
      "source": [
        "from typing import Tuple, List\n",
        "\n",
        "def stats(nums: List[int]) -> Tuple[int, float]:\n",
        "    \"\"\"최솟값과 평균을 반환\"\"\"\n",
        "    if not nums:\n",
        "        return 0, 0.0\n",
        "    return min(nums), sum(nums) / len(nums)\n",
        "\n",
        "m, avg = stats([10, 20, 30, 40])\n",
        "print(\"min:\", m, \"avg:\", avg)\n",
        "\n",
        "# 기본값, 키워드 인자\n",
        "def greet(name: str, prefix: str = \"Hello\"):\n",
        "    print(f\"{prefix}, {name}!\")\n",
        "\n",
        "greet(\"Alice\")\n",
        "greet(name=\"Bob\", prefix=\"Hi\")\n"
      ]
    },
    {
      "cell_type": "code",
      "execution_count": null,
      "metadata": {},
      "outputs": [],
      "source": [
        "# 간단한 파일 쓰기\n",
        "with open(\"notes.txt\", \"w\", encoding=\"utf-8\") as f:\n",
        "    f.write(\"첫 줄\\n둘째 줄\\n\")\n",
        "\n",
        "# 안전한 파일 읽기 + 예외 처리\n",
        "try:\n",
        "    with open(\"notes.txt\", \"r\", encoding=\"utf-8\") as f:\n",
        "        for line in f:\n",
        "            print(line.strip())\n",
        "except FileNotFoundError:\n",
        "    print(\"파일이 없습니다.\")\n",
        "except Exception as e:\n",
        "    print(\"알 수 없는 오류:\", e)\n"
      ]
    }
  ],
  "metadata": {
    "colab": {
      "authorship_tag": "ABX9TyOiLevMGDkY/RoVUgorQ/v6",
      "include_colab_link": true,
      "provenance": []
    },
    "kernelspec": {
      "display_name": "Python 3",
      "name": "python3"
    },
    "language_info": {
      "name": "python"
    }
  },
  "nbformat": 4,
  "nbformat_minor": 0
}
